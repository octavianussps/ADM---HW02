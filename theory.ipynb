{
 "cells": [
  {
   "cell_type": "markdown",
   "metadata": {},
   "source": [
    "Theoretical Question:\n",
    "\n",
    "You are given the recursive function splitSwap, which accepts an array a, an index i, and a length n.\n"
   ]
  },
  {
   "cell_type": "code",
   "execution_count": 14,
   "metadata": {},
   "outputs": [],
   "source": [
    "def function_splitSwap(a, l, n):\n",
    "    if n <= 1:\n",
    "        return\n",
    "    function_splitSwap(a, l, n//2)\n",
    "    function_splitSwap(a, l+ n //2, n//2)\n",
    "    function_swapList(a, l, n)\n",
    "    return a"
   ]
  },
  {
   "cell_type": "markdown",
   "metadata": {},
   "source": [
    "The subroutine swapList is described here:\n",
    "\n"
   ]
  },
  {
   "cell_type": "code",
   "execution_count": 15,
   "metadata": {},
   "outputs": [],
   "source": [
    "def function_swapList(a, l, n):\n",
    "    for i in range (0,n//2):\n",
    "        tmp = a[l + i]\n",
    "        a[l + i] = a[l + n//2 + i]\n",
    "        a[l + n//2 + i] = tmp\n",
    "    "
   ]
  },
  {
   "cell_type": "markdown",
   "metadata": {},
   "source": [
    "How much running time does it take to execute splitSwap(a, 0, n)? (We want a Big O analysis.)\n",
    "What does this algorithm do? Is it optimal? Describe the mechanism of the algorithm in details, we do not want to know only its final result.\n",
    "HINT: Consider the scenario where len(a) and n are numbers that are a power of 2."
   ]
  },
  {
   "cell_type": "markdown",
   "metadata": {},
   "source": [
    "The first function is $$O(n)=O(\\frac{n}{2})+O(\\frac{n}{2})+\\frac{3}{2}n=2O(\\frac{n}{2})+\\frac{3}{2}n$$\n",
    "The second iteration is $$4O(\\frac{n}{4})+\\frac{3}{2}n+\\frac{3}{2}n=4O(\\frac{n}{4})+3n$$\n",
    "the i-th itearition is $$2^iO(\\frac{n}{2^i})+i\\frac{3}{2}n$$\n",
    "\n",
    "so we stop at $$i=log(n)$$  \n",
    "\n",
    "and we get $$nO(1)+\\frac{3}{2}(log(n))n=O(nlog(n))$$\n",
    "\n",
    "so the computational complexity of this function is $$O(nlog(n))$$"
   ]
  },
  {
   "cell_type": "markdown",
   "metadata": {},
   "source": [
    "The function inverts the order of the array, and it's not optimal because it can be done in:$$O(n)$$\n"
   ]
  },
  {
   "cell_type": "code",
   "execution_count": null,
   "metadata": {},
   "outputs": [],
   "source": [
    "function reverse(a,n):\n",
    "    for i=0 to n/2:\n",
    "        temp=a[i]\n",
    "        a[i]=a[(n/2)-i]\n",
    "        a[n/2]=temp\n"
   ]
  },
  {
   "cell_type": "markdown",
   "metadata": {},
   "source": [
    "which clearly has computational complexity: $$O(n)$$"
   ]
  }
 ],
 "metadata": {
  "kernelspec": {
   "display_name": "Python 3",
   "language": "python",
   "name": "python3"
  },
  "language_info": {
   "codemirror_mode": {
    "name": "ipython",
    "version": 3
   },
   "file_extension": ".py",
   "mimetype": "text/x-python",
   "name": "python",
   "nbconvert_exporter": "python",
   "pygments_lexer": "ipython3",
   "version": "3.7.3"
  }
 },
 "nbformat": 4,
 "nbformat_minor": 2
}
